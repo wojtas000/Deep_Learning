{
 "cells": [
  {
   "cell_type": "code",
   "execution_count": 1,
   "metadata": {},
   "outputs": [],
   "source": [
    "%load_ext autoreload\n",
    "%autoreload 2"
   ]
  },
  {
   "cell_type": "code",
   "execution_count": 2,
   "metadata": {},
   "outputs": [],
   "source": [
    "import sys\n",
    "sys.path.insert(0, '..')  \n",
    "import datasets as ds\n",
    "import torch\n",
    "import torch.optim as optim\n",
    "from cnn_models import Simple_CNN\n",
    "from hyperparameter_search import Net_wrapper"
   ]
  },
  {
   "attachments": {},
   "cell_type": "markdown",
   "metadata": {},
   "source": [
    "## Training CNN_3_class model on full training data"
   ]
  },
  {
   "cell_type": "code",
   "execution_count": 2,
   "metadata": {},
   "outputs": [],
   "source": [
    "cifar_basic_aug_full = ds.cifar_basic_aug_full\n",
    "val_dataset = ds.cifar_val\n",
    "my_net = Net_wrapper(model = Simple_CNN, optimizer=optim.Adam, max_epochs=15, learning_rate = 0.0005, batch_size=8, step_size=5, number_of_filters0 = 32, number_of_filters11 = 256, no_neurons=500)"
   ]
  },
  {
   "attachments": {},
   "cell_type": "markdown",
   "metadata": {},
   "source": [
    "## Saving model parameters to CNN3_full.pt file"
   ]
  },
  {
   "cell_type": "code",
   "execution_count": null,
   "metadata": {},
   "outputs": [],
   "source": [
    "my_net.score(cifar_basic_aug_full, val_dataset, verbose=1)\n",
    "torch.save(my_net.model.state_dict(), '..\\\\saved_models\\\\CNN3_full.pt')"
   ]
  },
  {
   "attachments": {},
   "cell_type": "markdown",
   "metadata": {},
   "source": [
    "## Loading model and evaluation"
   ]
  },
  {
   "cell_type": "code",
   "execution_count": null,
   "metadata": {},
   "outputs": [],
   "source": [
    "model = Simple_CNN()\n",
    "model.load_state_dict(torch.load('..\\\\saved_models\\\\CNN3_full.pt'))\n",
    "model.eval()"
   ]
  },
  {
   "attachments": {},
   "cell_type": "markdown",
   "metadata": {},
   "source": [
    "## Preparing submission for kaggle"
   ]
  },
  {
   "cell_type": "code",
   "execution_count": null,
   "metadata": {},
   "outputs": [],
   "source": [
    "test_data = ds.cifar_test\n",
    "submission = model.prepare_submission(test_data)\n",
    "submission.to_csv('..\\\\submissions\\\\CNN3_submission.csv', index=False)"
   ]
  }
 ],
 "metadata": {
  "kernelspec": {
   "display_name": "Python 3",
   "language": "python",
   "name": "python3"
  },
  "language_info": {
   "codemirror_mode": {
    "name": "ipython",
    "version": 3
   },
   "file_extension": ".py",
   "mimetype": "text/x-python",
   "name": "python",
   "nbconvert_exporter": "python",
   "pygments_lexer": "ipython3",
   "version": "3.10.7"
  },
  "orig_nbformat": 4
 },
 "nbformat": 4,
 "nbformat_minor": 2
}
