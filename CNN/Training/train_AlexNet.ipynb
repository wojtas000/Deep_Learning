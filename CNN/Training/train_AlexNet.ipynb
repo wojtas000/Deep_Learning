{
 "cells": [
  {
   "cell_type": "code",
   "execution_count": 16,
   "metadata": {},
   "outputs": [
    {
     "name": "stdout",
     "output_type": "stream",
     "text": [
      "The autoreload extension is already loaded. To reload it, use:\n",
      "  %reload_ext autoreload\n"
     ]
    }
   ],
   "source": [
    "%load_ext autoreload\n",
    "%autoreload 2"
   ]
  },
  {
   "cell_type": "code",
   "execution_count": 17,
   "metadata": {},
   "outputs": [],
   "source": [
    "import sys\n",
    "sys.path.insert(0, '..')  \n",
    "import torch.optim as optim\n",
    "from torch.utils.data import DataLoader\n",
    "from torchvision import transforms\n",
    "import torch \n",
    "import pandas as pd"
   ]
  },
  {
   "cell_type": "code",
   "execution_count": 18,
   "metadata": {},
   "outputs": [],
   "source": [
    "from cnn_models import PretrainedAlexNet\n",
    "from hyperparameter_search import Net_wrapper\n",
    "import datasets as ds_own"
   ]
  },
  {
   "cell_type": "code",
   "execution_count": 19,
   "metadata": {},
   "outputs": [],
   "source": [
    "train_dataset = ds_own.cifar_train_fullAN\n",
    "val_dataset = ds_own.cifar_val_AN\n",
    "train_loader = DataLoader(train_dataset, batch_size=64, shuffle=True)\n",
    "val_loader = DataLoader(val_dataset, batch_size=64, shuffle=False)"
   ]
  },
  {
   "cell_type": "code",
   "execution_count": 11,
   "metadata": {},
   "outputs": [],
   "source": [
    "my_net = Net_wrapper(model = PretrainedAlexNet, optimizer=optim.Adam, max_epochs=15, learning_rate = 0.0001, step_size=5)\n",
    "my_net.score(train_dataset, val_dataset, verbose=1)\n"
   ]
  },
  {
   "attachments": {},
   "cell_type": "markdown",
   "metadata": {},
   "source": [
    "# Alex net on augmented data"
   ]
  },
  {
   "cell_type": "code",
   "execution_count": 21,
   "metadata": {},
   "outputs": [],
   "source": [
    "transformer4 = transforms.Compose([transforms.Resize((300, 300)),\n",
    "                                  transforms.RandomRotation(degrees=(-30,30)),\n",
    "                                  transforms.ColorJitter(brightness=0.4),\n",
    "                                  transforms.RandomHorizontalFlip(p=0.5),\n",
    "                                  transforms.RandomCrop(256),\n",
    "                                  transforms.ToTensor(),\n",
    "                                  transforms.Normalize([0.485, 0.456, 0.406], [0.229, 0.224, 0.225]),\n",
    "                                  ds_own.GaussianNoise(mean=0, std=0.001)])\n",
    "\n",
    "cifar_train_AN_aug = ds_own.CifarDataset(root_dir = ds_own.TRAIN_DIR, labels=ds_own.TRAIN_LABELS, \n",
    "                           transform=transformer4, class_dict=ds_own.CLASS_DICT)\n",
    "\n",
    "my_net = Net_wrapper(model = PretrainedAlexNet, optimizer=optim.Adam, max_epochs=15, learning_rate = 0.0001, step_size=5)"
   ]
  },
  {
   "cell_type": "code",
   "execution_count": null,
   "metadata": {},
   "outputs": [],
   "source": [
    "my_net.score(cifar_train_AN_aug, val_dataset, verbose=1)"
   ]
  },
  {
   "cell_type": "code",
   "execution_count": null,
   "metadata": {},
   "outputs": [],
   "source": [
    "alexNet = PretrainedAlexNet()\n",
    "alexNet.load_state_dict(torch.load('..\\\\saved_models\\\\alex.pt'))\n",
    "alexNet.eval()"
   ]
  },
  {
   "cell_type": "code",
   "execution_count": 3,
   "metadata": {},
   "outputs": [],
   "source": [
    "test = ds_own.cifar_test_AN"
   ]
  },
  {
   "cell_type": "code",
   "execution_count": 8,
   "metadata": {},
   "outputs": [],
   "source": [
    "submission = alexNet.prepare_submission(test, ds_own.CLASS_DICT)\n",
    "submission.to_csv('submissions\\\\alexNet_submission.csv', index=False)"
   ]
  }
 ],
 "metadata": {
  "kernelspec": {
   "display_name": "Python 3",
   "language": "python",
   "name": "python3"
  },
  "language_info": {
   "codemirror_mode": {
    "name": "ipython",
    "version": 3
   },
   "file_extension": ".py",
   "mimetype": "text/x-python",
   "name": "python",
   "nbconvert_exporter": "python",
   "pygments_lexer": "ipython3",
   "version": "3.10.7"
  },
  "orig_nbformat": 4
 },
 "nbformat": 4,
 "nbformat_minor": 2
}
