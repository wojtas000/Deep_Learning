{
 "cells": [
  {
   "attachments": {},
   "cell_type": "markdown",
   "metadata": {},
   "source": [
    "# Imports"
   ]
  },
  {
   "cell_type": "code",
   "execution_count": null,
   "metadata": {},
   "outputs": [],
   "source": [
    "import sys\n",
    "sys.path.insert(0, '..') "
   ]
  },
  {
   "cell_type": "code",
   "execution_count": 1,
   "metadata": {},
   "outputs": [],
   "source": [
    "import torch\n",
    "import torch.nn as nn\n",
    "import torch.optim as optim\n",
    "import torchvision.datasets as dset\n",
    "import matplotlib.pyplot as plt\n",
    "\n",
    "from torchvision.models import inception_v3\n",
    "from torchvision import transforms\n",
    "from torch.utils.data import DataLoader\n",
    "from gan_package.gan import GAN\n",
    "from gan_package.dcGAN import DCGAN_Generator, DCGAN_Discriminator"
   ]
  },
  {
   "attachments": {},
   "cell_type": "markdown",
   "metadata": {},
   "source": [
    "# Create dataset"
   ]
  },
  {
   "cell_type": "code",
   "execution_count": 2,
   "metadata": {},
   "outputs": [],
   "source": [
    "image_size = 256\n",
    "batch_size=32\n",
    "root = '../lsun/bedroom'\n",
    "\n",
    "dataset = dset.ImageFolder(root=root,\n",
    "                           transform=transforms.Compose([\n",
    "                               transforms.Resize(image_size),\n",
    "                               transforms.CenterCrop(image_size),\n",
    "                               transforms.ToTensor(),\n",
    "                               transforms.Normalize((0.5, 0.5, 0.5), (0.5, 0.5, 0.5)),\n",
    "                           ]))\n",
    "dataloader = DataLoader(dataset, batch_size=batch_size, shuffle=True, num_workers=2)\n",
    "    "
   ]
  },
  {
   "attachments": {},
   "cell_type": "markdown",
   "metadata": {},
   "source": [
    "# Set parameters"
   ]
  },
  {
   "cell_type": "code",
   "execution_count": null,
   "metadata": {},
   "outputs": [],
   "source": [
    "batch_size = 32\n",
    "learning_rate_gen = 0.0001\n",
    "learning_rate_dis = 0.005"
   ]
  },
  {
   "cell_type": "code",
   "execution_count": 5,
   "metadata": {},
   "outputs": [],
   "source": [
    "latent_dim = 100"
   ]
  },
  {
   "cell_type": "code",
   "execution_count": null,
   "metadata": {},
   "outputs": [],
   "source": [
    "img_shape = dataloader.dataset[0][0].shape\n",
    "n_out = torch.prod(torch.tensor(img_shape))\n",
    "\n",
    "inception_model = inception_v3(pretrained=True, transform_input=False, aux_logits=True)\n",
    "dc_generator = DCGAN_Generator()\n",
    "dc_discriminator = DCGAN_Discriminator()\n",
    "dc_gan = GAN(generator=dc_generator, discriminator=dc_discriminator, inception_model=inception_model)\n",
    "\n",
    "\n",
    "criterion = nn.BCELoss()\n",
    "\n",
    "dc_generator_optimizer = optim.Adam(dc_generator.parameters(), lr=learning_rate_gen, weight_decay=0.0001)\n",
    "dc_discriminator_optimizer = optim.Adam(dc_discriminator.parameters(), lr=learning_rate_dis, weight_decay=0.0001)"
   ]
  },
  {
   "attachments": {},
   "cell_type": "markdown",
   "metadata": {},
   "source": [
    "# Training loop"
   ]
  },
  {
   "cell_type": "code",
   "execution_count": null,
   "metadata": {},
   "outputs": [],
   "source": [
    "dc_gan.train(dataset=dataset,\n",
    "                    dataloader=dataloader,\n",
    "                    discriminator_optimizer=dc_discriminator_optimizer,\n",
    "                    generator_optimizer=dc_generator_optimizer,\n",
    "                    criterion=criterion,\n",
    "                    num_epochs=20)"
   ]
  },
  {
   "cell_type": "code",
   "execution_count": 3,
   "metadata": {},
   "outputs": [
    {
     "data": {
      "text/plain": [
       "<All keys matched successfully>"
      ]
     },
     "execution_count": 3,
     "metadata": {},
     "output_type": "execute_result"
    }
   ],
   "source": [
    "gen = DCGAN_Generator()\n",
    "gen.load_state_dict(torch.load('../models/dc_gan_generator.pt'))"
   ]
  },
  {
   "cell_type": "code",
   "execution_count": 8,
   "metadata": {},
   "outputs": [
    {
     "name": "stderr",
     "output_type": "stream",
     "text": [
      "Clipping input data to the valid range for imshow with RGB data ([0..1] for floats or [0..255] for integers).\n"
     ]
    },
    {
     "data": {
      "image/png": "[encoded data removed]",
      "text/plain": [
       "<Figure size 640x480 with 1 Axes>"
      ]
     },
     "metadata": {},
     "output_type": "display_data"
    }
   ],
   "source": [
    "batch_size = 2\n",
    "z = torch.randn(batch_size, latent_dim)\n",
    "fake_images = gen(z)\n",
    "\n",
    "\n",
    "transform = transforms.ToPILImage()\n",
    "# Convert the tensor to a NumPy array\n",
    "image_tensor = fake_images[0]\n",
    "image_np = image_tensor.detach().numpy()\n",
    "\n",
    "# Transpose the dimensions to match the expected shape for an image\n",
    "image_np = image_np.transpose(1, 2, 0)\n",
    "\n",
    "# Display the image using plt.imshow\n",
    "plt.imshow(image_np)\n",
    "plt.axis('off')  # Remove axis ticks and labels\n",
    "plt.show()"
   ]
  }
 ],
 "metadata": {
  "kernelspec": {
   "display_name": "venv",
   "language": "python",
   "name": "python3"
  },
  "language_info": {
   "codemirror_mode": {
    "name": "ipython",
    "version": 3
   },
   "file_extension": ".py",
   "mimetype": "text/x-python",
   "name": "python",
   "nbconvert_exporter": "python",
   "pygments_lexer": "ipython3",
   "version": "3.10.7"
  },
  "orig_nbformat": 4
 },
 "nbformat": 4,
 "nbformat_minor": 2
}
